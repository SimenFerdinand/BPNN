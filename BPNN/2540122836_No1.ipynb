{
 "cells": [
  {
   "cell_type": "markdown",
   "metadata": {
    "id": "TaT3SuRliGgt"
   },
   "source": [
    "Nama : Simen Ferdinand Djamhari"
   ]
  },
  {
   "cell_type": "code",
   "execution_count": 1,
   "metadata": {
    "id": "eNbrdUa1vW5D"
   },
   "outputs": [],
   "source": [
    "import pandas as pd\n",
    "import numpy as np\n",
    "import matplotlib.pyplot as plt\n",
    "import seaborn as sns\n",
    "\n",
    "from sklearn.preprocessing import StandardScaler\n",
    "from sklearn.model_selection import train_test_split\n",
    "\n",
    "import tensorflow as tf\n",
    "from tensorflow import keras"
   ]
  },
  {
   "cell_type": "markdown",
   "metadata": {
    "id": "8qZPjnagNEV7"
   },
   "source": [
    "Import Library yang akan dipakai"
   ]
  },
  {
   "cell_type": "code",
   "execution_count": 2,
   "metadata": {
    "colab": {
     "base_uri": "https://localhost:8080/",
     "height": 815
    },
    "id": "0UtPNxnJQwZE",
    "outputId": "92501c77-3c8d-406f-cea7-3c89c420f902"
   },
   "outputs": [
    {
     "name": "stdout",
     "output_type": "stream",
     "text": [
      "<class 'pandas.core.frame.DataFrame'>\n",
      "RangeIndex: 1338 entries, 0 to 1337\n",
      "Data columns (total 9 columns):\n",
      " #   Column          Non-Null Count  Dtype  \n",
      "---  ------          --------------  -----  \n",
      " 0   age             1338 non-null   int64  \n",
      " 1   sex             1338 non-null   int64  \n",
      " 2   bmi             1338 non-null   float64\n",
      " 3   steps           1338 non-null   int64  \n",
      " 4   children        1338 non-null   int64  \n",
      " 5   smoker          1338 non-null   int64  \n",
      " 6   region          1338 non-null   int64  \n",
      " 7   charges         1338 non-null   float64\n",
      " 8   insuranceclaim  1338 non-null   int64  \n",
      "dtypes: float64(2), int64(7)\n",
      "memory usage: 94.2 KB\n"
     ]
    },
    {
     "data": {
      "text/html": [
       "<div>\n",
       "<style scoped>\n",
       "    .dataframe tbody tr th:only-of-type {\n",
       "        vertical-align: middle;\n",
       "    }\n",
       "\n",
       "    .dataframe tbody tr th {\n",
       "        vertical-align: top;\n",
       "    }\n",
       "\n",
       "    .dataframe thead th {\n",
       "        text-align: right;\n",
       "    }\n",
       "</style>\n",
       "<table border=\"1\" class=\"dataframe\">\n",
       "  <thead>\n",
       "    <tr style=\"text-align: right;\">\n",
       "      <th></th>\n",
       "      <th>age</th>\n",
       "      <th>sex</th>\n",
       "      <th>bmi</th>\n",
       "      <th>steps</th>\n",
       "      <th>children</th>\n",
       "      <th>smoker</th>\n",
       "      <th>region</th>\n",
       "      <th>charges</th>\n",
       "      <th>insuranceclaim</th>\n",
       "    </tr>\n",
       "  </thead>\n",
       "  <tbody>\n",
       "    <tr>\n",
       "      <th>0</th>\n",
       "      <td>19</td>\n",
       "      <td>0</td>\n",
       "      <td>27.900</td>\n",
       "      <td>3009</td>\n",
       "      <td>0</td>\n",
       "      <td>1</td>\n",
       "      <td>3</td>\n",
       "      <td>16884.92400</td>\n",
       "      <td>1</td>\n",
       "    </tr>\n",
       "    <tr>\n",
       "      <th>1</th>\n",
       "      <td>18</td>\n",
       "      <td>1</td>\n",
       "      <td>33.770</td>\n",
       "      <td>3008</td>\n",
       "      <td>1</td>\n",
       "      <td>0</td>\n",
       "      <td>2</td>\n",
       "      <td>1725.55230</td>\n",
       "      <td>1</td>\n",
       "    </tr>\n",
       "    <tr>\n",
       "      <th>2</th>\n",
       "      <td>28</td>\n",
       "      <td>1</td>\n",
       "      <td>33.000</td>\n",
       "      <td>3009</td>\n",
       "      <td>3</td>\n",
       "      <td>0</td>\n",
       "      <td>2</td>\n",
       "      <td>4449.46200</td>\n",
       "      <td>0</td>\n",
       "    </tr>\n",
       "    <tr>\n",
       "      <th>3</th>\n",
       "      <td>33</td>\n",
       "      <td>1</td>\n",
       "      <td>22.705</td>\n",
       "      <td>10009</td>\n",
       "      <td>0</td>\n",
       "      <td>0</td>\n",
       "      <td>1</td>\n",
       "      <td>21984.47061</td>\n",
       "      <td>0</td>\n",
       "    </tr>\n",
       "    <tr>\n",
       "      <th>4</th>\n",
       "      <td>32</td>\n",
       "      <td>1</td>\n",
       "      <td>28.880</td>\n",
       "      <td>8010</td>\n",
       "      <td>0</td>\n",
       "      <td>0</td>\n",
       "      <td>1</td>\n",
       "      <td>3866.85520</td>\n",
       "      <td>1</td>\n",
       "    </tr>\n",
       "    <tr>\n",
       "      <th>5</th>\n",
       "      <td>31</td>\n",
       "      <td>0</td>\n",
       "      <td>25.740</td>\n",
       "      <td>8005</td>\n",
       "      <td>0</td>\n",
       "      <td>0</td>\n",
       "      <td>2</td>\n",
       "      <td>3756.62160</td>\n",
       "      <td>0</td>\n",
       "    </tr>\n",
       "    <tr>\n",
       "      <th>6</th>\n",
       "      <td>46</td>\n",
       "      <td>0</td>\n",
       "      <td>33.440</td>\n",
       "      <td>3002</td>\n",
       "      <td>1</td>\n",
       "      <td>0</td>\n",
       "      <td>2</td>\n",
       "      <td>8240.58960</td>\n",
       "      <td>1</td>\n",
       "    </tr>\n",
       "    <tr>\n",
       "      <th>7</th>\n",
       "      <td>37</td>\n",
       "      <td>0</td>\n",
       "      <td>27.740</td>\n",
       "      <td>8007</td>\n",
       "      <td>3</td>\n",
       "      <td>0</td>\n",
       "      <td>1</td>\n",
       "      <td>7281.50560</td>\n",
       "      <td>0</td>\n",
       "    </tr>\n",
       "    <tr>\n",
       "      <th>8</th>\n",
       "      <td>37</td>\n",
       "      <td>1</td>\n",
       "      <td>29.830</td>\n",
       "      <td>8002</td>\n",
       "      <td>2</td>\n",
       "      <td>0</td>\n",
       "      <td>0</td>\n",
       "      <td>6406.41070</td>\n",
       "      <td>0</td>\n",
       "    </tr>\n",
       "    <tr>\n",
       "      <th>9</th>\n",
       "      <td>60</td>\n",
       "      <td>0</td>\n",
       "      <td>25.840</td>\n",
       "      <td>5008</td>\n",
       "      <td>0</td>\n",
       "      <td>0</td>\n",
       "      <td>1</td>\n",
       "      <td>28923.13692</td>\n",
       "      <td>0</td>\n",
       "    </tr>\n",
       "    <tr>\n",
       "      <th>10</th>\n",
       "      <td>25</td>\n",
       "      <td>1</td>\n",
       "      <td>26.220</td>\n",
       "      <td>8006</td>\n",
       "      <td>0</td>\n",
       "      <td>0</td>\n",
       "      <td>0</td>\n",
       "      <td>2721.32080</td>\n",
       "      <td>1</td>\n",
       "    </tr>\n",
       "    <tr>\n",
       "      <th>11</th>\n",
       "      <td>62</td>\n",
       "      <td>0</td>\n",
       "      <td>26.290</td>\n",
       "      <td>5004</td>\n",
       "      <td>0</td>\n",
       "      <td>1</td>\n",
       "      <td>2</td>\n",
       "      <td>27808.72510</td>\n",
       "      <td>1</td>\n",
       "    </tr>\n",
       "    <tr>\n",
       "      <th>12</th>\n",
       "      <td>23</td>\n",
       "      <td>1</td>\n",
       "      <td>34.400</td>\n",
       "      <td>3008</td>\n",
       "      <td>0</td>\n",
       "      <td>0</td>\n",
       "      <td>3</td>\n",
       "      <td>1826.84300</td>\n",
       "      <td>1</td>\n",
       "    </tr>\n",
       "    <tr>\n",
       "      <th>13</th>\n",
       "      <td>56</td>\n",
       "      <td>0</td>\n",
       "      <td>39.820</td>\n",
       "      <td>4001</td>\n",
       "      <td>0</td>\n",
       "      <td>0</td>\n",
       "      <td>2</td>\n",
       "      <td>11090.71780</td>\n",
       "      <td>1</td>\n",
       "    </tr>\n",
       "    <tr>\n",
       "      <th>14</th>\n",
       "      <td>27</td>\n",
       "      <td>1</td>\n",
       "      <td>42.130</td>\n",
       "      <td>4006</td>\n",
       "      <td>0</td>\n",
       "      <td>1</td>\n",
       "      <td>2</td>\n",
       "      <td>39611.75770</td>\n",
       "      <td>1</td>\n",
       "    </tr>\n",
       "  </tbody>\n",
       "</table>\n",
       "</div>"
      ],
      "text/plain": [
       "    age  sex     bmi  steps  children  smoker  region      charges  \\\n",
       "0    19    0  27.900   3009         0       1       3  16884.92400   \n",
       "1    18    1  33.770   3008         1       0       2   1725.55230   \n",
       "2    28    1  33.000   3009         3       0       2   4449.46200   \n",
       "3    33    1  22.705  10009         0       0       1  21984.47061   \n",
       "4    32    1  28.880   8010         0       0       1   3866.85520   \n",
       "5    31    0  25.740   8005         0       0       2   3756.62160   \n",
       "6    46    0  33.440   3002         1       0       2   8240.58960   \n",
       "7    37    0  27.740   8007         3       0       1   7281.50560   \n",
       "8    37    1  29.830   8002         2       0       0   6406.41070   \n",
       "9    60    0  25.840   5008         0       0       1  28923.13692   \n",
       "10   25    1  26.220   8006         0       0       0   2721.32080   \n",
       "11   62    0  26.290   5004         0       1       2  27808.72510   \n",
       "12   23    1  34.400   3008         0       0       3   1826.84300   \n",
       "13   56    0  39.820   4001         0       0       2  11090.71780   \n",
       "14   27    1  42.130   4006         0       1       2  39611.75770   \n",
       "\n",
       "    insuranceclaim  \n",
       "0                1  \n",
       "1                1  \n",
       "2                0  \n",
       "3                0  \n",
       "4                1  \n",
       "5                0  \n",
       "6                1  \n",
       "7                0  \n",
       "8                0  \n",
       "9                0  \n",
       "10               1  \n",
       "11               1  \n",
       "12               1  \n",
       "13               1  \n",
       "14               1  "
      ]
     },
     "execution_count": 2,
     "metadata": {},
     "output_type": "execute_result"
    }
   ],
   "source": [
    "data = pd.read_csv('insurance.csv')\n",
    "data.info()\n",
    "data.head(15)"
   ]
  },
  {
   "cell_type": "markdown",
   "metadata": {
    "id": "y46nO1vbNHnQ"
   },
   "source": [
    "Membaca data insurance. Lalu melihat 15 teratas"
   ]
  },
  {
   "cell_type": "code",
   "execution_count": 3,
   "metadata": {
    "colab": {
     "base_uri": "https://localhost:8080/",
     "height": 0
    },
    "id": "CgCBG1Y8aGfP",
    "outputId": "7e24dbe0-e68a-4a3d-92f5-b7851b3bb13e"
   },
   "outputs": [
    {
     "data": {
      "text/plain": [
       "age               0\n",
       "sex               0\n",
       "bmi               0\n",
       "steps             0\n",
       "children          0\n",
       "smoker            0\n",
       "region            0\n",
       "charges           0\n",
       "insuranceclaim    0\n",
       "dtype: int64"
      ]
     },
     "execution_count": 3,
     "metadata": {},
     "output_type": "execute_result"
    }
   ],
   "source": [
    "data.isnull().sum()"
   ]
  },
  {
   "cell_type": "markdown",
   "metadata": {
    "id": "IUvjWlHuOQkJ"
   },
   "source": [
    "Mengecek apakah ad datan yang kosong"
   ]
  },
  {
   "cell_type": "code",
   "execution_count": 4,
   "metadata": {
    "colab": {
     "base_uri": "https://localhost:8080/",
     "height": 448
    },
    "id": "9pBnhrtWOATL",
    "outputId": "572834a1-9188-4161-df83-ff07c07eac7a"
   },
   "outputs": [
    {
     "data": {
      "text/plain": [
       "<AxesSubplot:>"
      ]
     },
     "execution_count": 4,
     "metadata": {},
     "output_type": "execute_result"
    },
    {
     "data": {
      "image/png": "[encoded data removed]",
      "text/plain": [
       "<Figure size 640x480 with 1 Axes>"
      ]
     },
     "metadata": {},
     "output_type": "display_data"
    }
   ],
   "source": [
    "sns.boxplot(data=data)"
   ]
  },
  {
   "cell_type": "markdown",
   "metadata": {
    "id": "1mHHt6YzO5i2"
   },
   "source": [
    "# B"
   ]
  },
  {
   "cell_type": "markdown",
   "metadata": {
    "id": "0Wg-AUXGOcgr"
   },
   "source": [
    "Adanya masalah di dalam data yang diambil. Bila kita lihat outlier, akan terlihat kalau banyak adanya outlier. Cara termudah untuk mengatasi hal itu adalah dengan membuang outlier menggunakan teknik seperti IQR"
   ]
  },
  {
   "cell_type": "code",
   "execution_count": 5,
   "metadata": {
    "id": "xq-UjGLoQ9Nr"
   },
   "outputs": [],
   "source": [
    "X = data.drop('insuranceclaim', axis=1)\n",
    "y = data['insuranceclaim']\n",
    "\n",
    "scaler = StandardScaler()\n",
    "X = scaler.fit_transform(X)"
   ]
  },
  {
   "cell_type": "markdown",
   "metadata": {
    "id": "5lGlZibbiNN9"
   },
   "source": [
    "Membagi data menjadi X dan y"
   ]
  },
  {
   "cell_type": "code",
   "execution_count": 6,
   "metadata": {
    "id": "P-sP0V4yQh-c"
   },
   "outputs": [],
   "source": [
    "#Split data inti 80% train, 10% test, 10% validation\n",
    "train_X, test_X, train_y, test_y = train_test_split(X, y, test_size = 0.2, random_state = 34)\n",
    "\n",
    "testing_X, valid_X, testing_y, valid_y = train_test_split(test_X, test_y, test_size = 0.5, random_state = 34)"
   ]
  },
  {
   "cell_type": "markdown",
   "metadata": {
    "id": "VbOp0--cOxcv"
   },
   "source": [
    "Membagi data dengan Validasi 80%, test 10% dan validasi 10%"
   ]
  },
  {
   "cell_type": "markdown",
   "metadata": {
    "id": "ZxUEPpBAVZXd"
   },
   "source": [
    "# C"
   ]
  },
  {
   "cell_type": "code",
   "execution_count": 7,
   "metadata": {
    "id": "FFCgpfffcBcs"
   },
   "outputs": [],
   "source": [
    "n = train_X.shape[1]\n",
    "n_class = len(np.unique(train_y))\n",
    "\n",
    "model = keras.Sequential([\n",
    "    keras.layers.Dense(2 * n, input_shape = (n,), activation='relu'),\n",
    "    keras.layers.Dense(2 * n, activation='relu'),\n",
    "    keras.layers.Dense(n_class, activation='sigmoid')\n",
    "])"
   ]
  },
  {
   "cell_type": "code",
   "execution_count": 8,
   "metadata": {
    "colab": {
     "base_uri": "https://localhost:8080/",
     "height": 0
    },
    "id": "eh9Oqw3VtKBj",
    "outputId": "dab59018-7160-49f7-efb2-faa9ccc01188"
   },
   "outputs": [],
   "source": [
    "#n"
   ]
  },
  {
   "cell_type": "code",
   "execution_count": 9,
   "metadata": {
    "colab": {
     "base_uri": "https://localhost:8080/",
     "height": 0
    },
    "id": "bX3scbYLtN6n",
    "outputId": "c63ae534-a904-4273-ec0b-03671e511390"
   },
   "outputs": [],
   "source": [
    "#n_class"
   ]
  },
  {
   "cell_type": "code",
   "execution_count": 10,
   "metadata": {
    "id": "85WXIWFJTSEx"
   },
   "outputs": [],
   "source": [
    "model.compile(optimizer='adam', loss = 'sparse_categorical_crossentropy', metrics=['accuracy'])"
   ]
  },
  {
   "cell_type": "code",
   "execution_count": 11,
   "metadata": {
    "colab": {
     "base_uri": "https://localhost:8080/",
     "height": 0
    },
    "id": "AveAcTZYTXJV",
    "outputId": "448b6200-2035-44bc-8ada-6e43e9064fbe"
   },
   "outputs": [
    {
     "name": "stdout",
     "output_type": "stream",
     "text": [
      "Epoch 1/50\n",
      "34/34 [==============================] - 1s 5ms/step - loss: 0.6834 - accuracy: 0.5645 - val_loss: 0.5976 - val_accuracy: 0.7239\n",
      "Epoch 2/50\n",
      "34/34 [==============================] - 0s 1ms/step - loss: 0.5825 - accuracy: 0.6944 - val_loss: 0.5110 - val_accuracy: 0.7612\n",
      "Epoch 3/50\n",
      "34/34 [==============================] - 0s 1ms/step - loss: 0.5099 - accuracy: 0.7533 - val_loss: 0.4455 - val_accuracy: 0.7836\n",
      "Epoch 4/50\n",
      "34/34 [==============================] - 0s 1ms/step - loss: 0.4570 - accuracy: 0.7897 - val_loss: 0.4014 - val_accuracy: 0.8284\n",
      "Epoch 5/50\n",
      "34/34 [==============================] - 0s 1ms/step - loss: 0.4216 - accuracy: 0.8234 - val_loss: 0.3673 - val_accuracy: 0.8582\n",
      "Epoch 6/50\n",
      "34/34 [==============================] - 0s 1ms/step - loss: 0.3926 - accuracy: 0.8495 - val_loss: 0.3393 - val_accuracy: 0.8731\n",
      "Epoch 7/50\n",
      "34/34 [==============================] - 0s 1ms/step - loss: 0.3672 - accuracy: 0.8692 - val_loss: 0.3166 - val_accuracy: 0.8881\n",
      "Epoch 8/50\n",
      "34/34 [==============================] - 0s 1ms/step - loss: 0.3454 - accuracy: 0.8794 - val_loss: 0.2966 - val_accuracy: 0.8955\n",
      "Epoch 9/50\n",
      "34/34 [==============================] - 0s 1ms/step - loss: 0.3250 - accuracy: 0.8813 - val_loss: 0.2832 - val_accuracy: 0.9030\n",
      "Epoch 10/50\n",
      "34/34 [==============================] - 0s 1ms/step - loss: 0.3100 - accuracy: 0.8879 - val_loss: 0.2709 - val_accuracy: 0.9030\n",
      "Epoch 11/50\n",
      "34/34 [==============================] - 0s 1ms/step - loss: 0.2964 - accuracy: 0.8935 - val_loss: 0.2623 - val_accuracy: 0.9030\n",
      "Epoch 12/50\n",
      "34/34 [==============================] - 0s 1ms/step - loss: 0.2841 - accuracy: 0.8925 - val_loss: 0.2537 - val_accuracy: 0.9030\n",
      "Epoch 13/50\n",
      "34/34 [==============================] - 0s 1ms/step - loss: 0.2728 - accuracy: 0.8944 - val_loss: 0.2461 - val_accuracy: 0.9104\n",
      "Epoch 14/50\n",
      "34/34 [==============================] - 0s 1ms/step - loss: 0.2629 - accuracy: 0.8981 - val_loss: 0.2372 - val_accuracy: 0.9030\n",
      "Epoch 15/50\n",
      "34/34 [==============================] - 0s 1ms/step - loss: 0.2518 - accuracy: 0.9028 - val_loss: 0.2353 - val_accuracy: 0.9030\n",
      "Epoch 16/50\n",
      "34/34 [==============================] - 0s 1ms/step - loss: 0.2443 - accuracy: 0.9093 - val_loss: 0.2293 - val_accuracy: 0.9179\n",
      "Epoch 17/50\n",
      "34/34 [==============================] - 0s 1ms/step - loss: 0.2353 - accuracy: 0.9159 - val_loss: 0.2248 - val_accuracy: 0.9104\n",
      "Epoch 18/50\n",
      "34/34 [==============================] - 0s 1ms/step - loss: 0.2286 - accuracy: 0.9150 - val_loss: 0.2198 - val_accuracy: 0.9179\n",
      "Epoch 19/50\n",
      "34/34 [==============================] - 0s 1ms/step - loss: 0.2208 - accuracy: 0.9196 - val_loss: 0.2173 - val_accuracy: 0.9254\n",
      "Epoch 20/50\n",
      "34/34 [==============================] - 0s 1ms/step - loss: 0.2153 - accuracy: 0.9206 - val_loss: 0.2156 - val_accuracy: 0.9179\n",
      "Epoch 21/50\n",
      "34/34 [==============================] - 0s 1ms/step - loss: 0.2100 - accuracy: 0.9215 - val_loss: 0.2108 - val_accuracy: 0.9254\n",
      "Epoch 22/50\n",
      "34/34 [==============================] - 0s 1ms/step - loss: 0.2052 - accuracy: 0.9215 - val_loss: 0.2087 - val_accuracy: 0.9030\n",
      "Epoch 23/50\n",
      "34/34 [==============================] - 0s 1ms/step - loss: 0.2003 - accuracy: 0.9308 - val_loss: 0.2092 - val_accuracy: 0.9104\n",
      "Epoch 24/50\n",
      "34/34 [==============================] - 0s 1ms/step - loss: 0.1968 - accuracy: 0.9262 - val_loss: 0.2028 - val_accuracy: 0.9104\n",
      "Epoch 25/50\n",
      "34/34 [==============================] - 0s 1ms/step - loss: 0.1928 - accuracy: 0.9318 - val_loss: 0.2056 - val_accuracy: 0.9104\n",
      "Epoch 26/50\n",
      "34/34 [==============================] - 0s 1ms/step - loss: 0.1890 - accuracy: 0.9290 - val_loss: 0.2029 - val_accuracy: 0.9104\n",
      "Epoch 27/50\n",
      "34/34 [==============================] - 0s 1ms/step - loss: 0.1859 - accuracy: 0.9308 - val_loss: 0.2059 - val_accuracy: 0.9254\n",
      "Epoch 28/50\n",
      "34/34 [==============================] - 0s 1ms/step - loss: 0.1823 - accuracy: 0.9327 - val_loss: 0.2009 - val_accuracy: 0.9179\n",
      "Epoch 29/50\n",
      "34/34 [==============================] - 0s 1ms/step - loss: 0.1783 - accuracy: 0.9346 - val_loss: 0.1986 - val_accuracy: 0.9254\n",
      "Epoch 30/50\n",
      "34/34 [==============================] - 0s 1ms/step - loss: 0.1755 - accuracy: 0.9346 - val_loss: 0.1996 - val_accuracy: 0.9254\n",
      "Epoch 31/50\n",
      "34/34 [==============================] - 0s 1ms/step - loss: 0.1725 - accuracy: 0.9327 - val_loss: 0.2014 - val_accuracy: 0.9104\n",
      "Epoch 32/50\n",
      "34/34 [==============================] - 0s 1ms/step - loss: 0.1700 - accuracy: 0.9318 - val_loss: 0.1983 - val_accuracy: 0.9179\n",
      "Epoch 33/50\n",
      "34/34 [==============================] - 0s 1ms/step - loss: 0.1686 - accuracy: 0.9374 - val_loss: 0.1971 - val_accuracy: 0.9328\n",
      "Epoch 34/50\n",
      "34/34 [==============================] - 0s 1ms/step - loss: 0.1674 - accuracy: 0.9346 - val_loss: 0.1990 - val_accuracy: 0.9328\n",
      "Epoch 35/50\n",
      "34/34 [==============================] - 0s 1ms/step - loss: 0.1634 - accuracy: 0.9364 - val_loss: 0.1952 - val_accuracy: 0.9328\n",
      "Epoch 36/50\n",
      "34/34 [==============================] - 0s 1ms/step - loss: 0.1598 - accuracy: 0.9383 - val_loss: 0.1956 - val_accuracy: 0.9254\n",
      "Epoch 37/50\n",
      "34/34 [==============================] - 0s 1ms/step - loss: 0.1585 - accuracy: 0.9355 - val_loss: 0.1981 - val_accuracy: 0.9254\n",
      "Epoch 38/50\n",
      "34/34 [==============================] - 0s 1ms/step - loss: 0.1570 - accuracy: 0.9346 - val_loss: 0.1928 - val_accuracy: 0.9328\n",
      "Epoch 39/50\n",
      "34/34 [==============================] - 0s 1ms/step - loss: 0.1549 - accuracy: 0.9411 - val_loss: 0.1962 - val_accuracy: 0.9179\n",
      "Epoch 40/50\n",
      "34/34 [==============================] - 0s 1ms/step - loss: 0.1538 - accuracy: 0.9383 - val_loss: 0.1932 - val_accuracy: 0.9254\n",
      "Epoch 41/50\n",
      "34/34 [==============================] - 0s 1ms/step - loss: 0.1518 - accuracy: 0.9374 - val_loss: 0.1950 - val_accuracy: 0.9104\n",
      "Epoch 42/50\n",
      "34/34 [==============================] - 0s 1ms/step - loss: 0.1493 - accuracy: 0.9477 - val_loss: 0.1918 - val_accuracy: 0.9254\n",
      "Epoch 43/50\n",
      "34/34 [==============================] - 0s 1ms/step - loss: 0.1477 - accuracy: 0.9430 - val_loss: 0.1897 - val_accuracy: 0.9254\n",
      "Epoch 44/50\n",
      "34/34 [==============================] - 0s 1ms/step - loss: 0.1473 - accuracy: 0.9411 - val_loss: 0.1932 - val_accuracy: 0.9104\n",
      "Epoch 45/50\n",
      "34/34 [==============================] - 0s 1ms/step - loss: 0.1451 - accuracy: 0.9439 - val_loss: 0.1866 - val_accuracy: 0.9328\n",
      "Epoch 46/50\n",
      "34/34 [==============================] - 0s 1ms/step - loss: 0.1429 - accuracy: 0.9393 - val_loss: 0.1930 - val_accuracy: 0.9179\n",
      "Epoch 47/50\n",
      "34/34 [==============================] - 0s 1ms/step - loss: 0.1415 - accuracy: 0.9439 - val_loss: 0.1881 - val_accuracy: 0.9254\n",
      "Epoch 48/50\n",
      "34/34 [==============================] - 0s 1ms/step - loss: 0.1397 - accuracy: 0.9430 - val_loss: 0.1899 - val_accuracy: 0.9179\n",
      "Epoch 49/50\n",
      "34/34 [==============================] - 0s 1ms/step - loss: 0.1383 - accuracy: 0.9495 - val_loss: 0.1877 - val_accuracy: 0.9179\n",
      "Epoch 50/50\n",
      "34/34 [==============================] - 0s 1ms/step - loss: 0.1365 - accuracy: 0.9458 - val_loss: 0.1877 - val_accuracy: 0.9179\n"
     ]
    },
    {
     "data": {
      "text/plain": [
       "<keras.callbacks.History at 0x2d071ea0fa0>"
      ]
     },
     "execution_count": 11,
     "metadata": {},
     "output_type": "execute_result"
    }
   ],
   "source": [
    "model.fit(train_X, train_y, epochs = 50, validation_data = (valid_X, valid_y))"
   ]
  },
  {
   "cell_type": "code",
   "execution_count": 12,
   "metadata": {
    "colab": {
     "base_uri": "https://localhost:8080/",
     "height": 490
    },
    "id": "HlyeN9RUUgUa",
    "outputId": "916cd9d6-0050-4fcc-beab-d0e47e57c274"
   },
   "outputs": [
    {
     "data": {
      "text/plain": [
       "Text(0, 0.5, 'Loss')"
      ]
     },
     "execution_count": 12,
     "metadata": {},
     "output_type": "execute_result"
    },
    {
     "data": {
      "image/png": "[encoded data removed]",
      "text/plain": [
       "<Figure size 640x480 with 1 Axes>"
      ]
     },
     "metadata": {},
     "output_type": "display_data"
    }
   ],
   "source": [
    "plt.plot(model.history.history['loss'], label='Training Loss')\n",
    "plt.plot(model.history.history['val_loss'], label='Validation Loss')\n",
    "plt.title('Train and Validation Loss Plot')\n",
    "plt.xlabel('Epoch')\n",
    "plt.ylabel('Loss')"
   ]
  },
  {
   "cell_type": "code",
   "execution_count": 13,
   "metadata": {
    "colab": {
     "base_uri": "https://localhost:8080/",
     "height": 0
    },
    "id": "XvVcSwBGTga6",
    "outputId": "fdc6b8a8-5dc2-4d99-8811-a10787b9089d"
   },
   "outputs": [
    {
     "name": "stdout",
     "output_type": "stream",
     "text": [
      "5/5 [==============================] - 0s 750us/step\n",
      "Accuracy: 0.9104477611940298 \n",
      "\n",
      "              precision    recall  f1-score   support\n",
      "\n",
      "           0       0.86      0.89      0.88        47\n",
      "           1       0.94      0.92      0.93        87\n",
      "\n",
      "    accuracy                           0.91       134\n",
      "   macro avg       0.90      0.91      0.90       134\n",
      "weighted avg       0.91      0.91      0.91       134\n",
      "\n"
     ]
    }
   ],
   "source": [
    "from sklearn.metrics import confusion_matrix\n",
    "from sklearn.metrics import accuracy_score\n",
    "from sklearn.metrics import f1_score\n",
    "from sklearn.metrics import classification_report\n",
    "\n",
    "test_predictions = np.argmax(model.predict(testing_X), axis=1).round()\n",
    "accuracy = accuracy_score(testing_y, test_predictions)\n",
    "print(\"Accuracy: {}\".format(accuracy), \"\\n\")\n",
    "\n",
    "print(classification_report(testing_y, test_predictions))"
   ]
  },
  {
   "cell_type": "markdown",
   "metadata": {
    "id": "TQXJK0DHiTAc"
   },
   "source": [
    "Membuat arsitektur suai dengan soal, lalu mengecek report menggunakan calssification_report yang akan nanti dibandingkan dengan setelah dimodifikasi"
   ]
  },
  {
   "cell_type": "markdown",
   "metadata": {
    "id": "P6uZfXZiV0qe"
   },
   "source": [
    "# D"
   ]
  },
  {
   "cell_type": "code",
   "execution_count": 14,
   "metadata": {
    "id": "dFcXB8jZV6Lg"
   },
   "outputs": [],
   "source": [
    "model = keras.Sequential([\n",
    "    keras.layers.Dense(10, input_dim = 8, activation='relu'),\n",
    "    keras.layers.Dense(10, activation='relu'),\n",
    "    keras.layers.Dense(2, activation='softmax')\n",
    "])"
   ]
  },
  {
   "cell_type": "code",
   "execution_count": 15,
   "metadata": {
    "id": "Lm_NkUcVWw0W"
   },
   "outputs": [],
   "source": [
    "model.compile(optimizer='adam', loss='sparse_categorical_crossentropy', metrics=['accuracy'])"
   ]
  },
  {
   "cell_type": "code",
   "execution_count": 16,
   "metadata": {
    "colab": {
     "base_uri": "https://localhost:8080/",
     "height": 0
    },
    "id": "s9bmMPEjWSle",
    "outputId": "75d6b028-e55b-4737-e1f3-cca64cddb623"
   },
   "outputs": [
    {
     "name": "stdout",
     "output_type": "stream",
     "text": [
      "Epoch 1/150\n",
      "27/27 [==============================] - 0s 4ms/step - loss: 0.7458 - accuracy: 0.4897 - val_loss: 0.7093 - val_accuracy: 0.4627\n",
      "Epoch 2/150\n",
      "27/27 [==============================] - 0s 1ms/step - loss: 0.6686 - accuracy: 0.5944 - val_loss: 0.6316 - val_accuracy: 0.6642\n",
      "Epoch 3/150\n",
      "27/27 [==============================] - 0s 2ms/step - loss: 0.6171 - accuracy: 0.7150 - val_loss: 0.5729 - val_accuracy: 0.7761\n",
      "Epoch 4/150\n",
      "27/27 [==============================] - 0s 2ms/step - loss: 0.5765 - accuracy: 0.7701 - val_loss: 0.5320 - val_accuracy: 0.8060\n",
      "Epoch 5/150\n",
      "27/27 [==============================] - 0s 2ms/step - loss: 0.5426 - accuracy: 0.7841 - val_loss: 0.4992 - val_accuracy: 0.8060\n",
      "Epoch 6/150\n",
      "27/27 [==============================] - 0s 2ms/step - loss: 0.5132 - accuracy: 0.7804 - val_loss: 0.4723 - val_accuracy: 0.8060\n",
      "Epoch 7/150\n",
      "27/27 [==============================] - 0s 1ms/step - loss: 0.4877 - accuracy: 0.7897 - val_loss: 0.4488 - val_accuracy: 0.8209\n",
      "Epoch 8/150\n",
      "27/27 [==============================] - 0s 2ms/step - loss: 0.4630 - accuracy: 0.8065 - val_loss: 0.4256 - val_accuracy: 0.8209\n",
      "Epoch 9/150\n",
      "27/27 [==============================] - 0s 1ms/step - loss: 0.4424 - accuracy: 0.8187 - val_loss: 0.4107 - val_accuracy: 0.8134\n",
      "Epoch 10/150\n",
      "27/27 [==============================] - 0s 1ms/step - loss: 0.4234 - accuracy: 0.8299 - val_loss: 0.3972 - val_accuracy: 0.8134\n",
      "Epoch 11/150\n",
      "27/27 [==============================] - 0s 2ms/step - loss: 0.4066 - accuracy: 0.8364 - val_loss: 0.3845 - val_accuracy: 0.8060\n",
      "Epoch 12/150\n",
      "27/27 [==============================] - 0s 2ms/step - loss: 0.3918 - accuracy: 0.8383 - val_loss: 0.3741 - val_accuracy: 0.8134\n",
      "Epoch 13/150\n",
      "27/27 [==============================] - 0s 1ms/step - loss: 0.3766 - accuracy: 0.8411 - val_loss: 0.3660 - val_accuracy: 0.8209\n",
      "Epoch 14/150\n",
      "27/27 [==============================] - 0s 2ms/step - loss: 0.3629 - accuracy: 0.8542 - val_loss: 0.3573 - val_accuracy: 0.8358\n",
      "Epoch 15/150\n",
      "27/27 [==============================] - 0s 1ms/step - loss: 0.3494 - accuracy: 0.8589 - val_loss: 0.3493 - val_accuracy: 0.8507\n",
      "Epoch 16/150\n",
      "27/27 [==============================] - 0s 1ms/step - loss: 0.3380 - accuracy: 0.8645 - val_loss: 0.3423 - val_accuracy: 0.8507\n",
      "Epoch 17/150\n",
      "27/27 [==============================] - 0s 1ms/step - loss: 0.3267 - accuracy: 0.8692 - val_loss: 0.3361 - val_accuracy: 0.8507\n",
      "Epoch 18/150\n",
      "27/27 [==============================] - 0s 2ms/step - loss: 0.3163 - accuracy: 0.8757 - val_loss: 0.3303 - val_accuracy: 0.8507\n",
      "Epoch 19/150\n",
      "27/27 [==============================] - 0s 2ms/step - loss: 0.3077 - accuracy: 0.8766 - val_loss: 0.3250 - val_accuracy: 0.8582\n",
      "Epoch 20/150\n",
      "27/27 [==============================] - 0s 2ms/step - loss: 0.2997 - accuracy: 0.8832 - val_loss: 0.3199 - val_accuracy: 0.8582\n",
      "Epoch 21/150\n",
      "27/27 [==============================] - 0s 2ms/step - loss: 0.2919 - accuracy: 0.8935 - val_loss: 0.3160 - val_accuracy: 0.8731\n",
      "Epoch 22/150\n",
      "27/27 [==============================] - 0s 2ms/step - loss: 0.2847 - accuracy: 0.8953 - val_loss: 0.3109 - val_accuracy: 0.8731\n",
      "Epoch 23/150\n",
      "27/27 [==============================] - 0s 1ms/step - loss: 0.2787 - accuracy: 0.8963 - val_loss: 0.3075 - val_accuracy: 0.8657\n",
      "Epoch 24/150\n",
      "27/27 [==============================] - 0s 1ms/step - loss: 0.2726 - accuracy: 0.8991 - val_loss: 0.3049 - val_accuracy: 0.8731\n",
      "Epoch 25/150\n",
      "27/27 [==============================] - 0s 1ms/step - loss: 0.2681 - accuracy: 0.8991 - val_loss: 0.3025 - val_accuracy: 0.8806\n",
      "Epoch 26/150\n",
      "27/27 [==============================] - 0s 1ms/step - loss: 0.2633 - accuracy: 0.9009 - val_loss: 0.2998 - val_accuracy: 0.8806\n",
      "Epoch 27/150\n",
      "27/27 [==============================] - 0s 1ms/step - loss: 0.2585 - accuracy: 0.9009 - val_loss: 0.2989 - val_accuracy: 0.8731\n",
      "Epoch 28/150\n",
      "27/27 [==============================] - 0s 1ms/step - loss: 0.2546 - accuracy: 0.9037 - val_loss: 0.2973 - val_accuracy: 0.8731\n",
      "Epoch 29/150\n",
      "27/27 [==============================] - 0s 1ms/step - loss: 0.2506 - accuracy: 0.9084 - val_loss: 0.2949 - val_accuracy: 0.8806\n",
      "Epoch 30/150\n",
      "27/27 [==============================] - 0s 1ms/step - loss: 0.2470 - accuracy: 0.9084 - val_loss: 0.2935 - val_accuracy: 0.8731\n",
      "Epoch 31/150\n",
      "27/27 [==============================] - 0s 1ms/step - loss: 0.2445 - accuracy: 0.9075 - val_loss: 0.2918 - val_accuracy: 0.8806\n",
      "Epoch 32/150\n",
      "27/27 [==============================] - 0s 1ms/step - loss: 0.2399 - accuracy: 0.9121 - val_loss: 0.2909 - val_accuracy: 0.8806\n",
      "Epoch 33/150\n",
      "27/27 [==============================] - 0s 2ms/step - loss: 0.2372 - accuracy: 0.9121 - val_loss: 0.2906 - val_accuracy: 0.8806\n",
      "Epoch 34/150\n",
      "27/27 [==============================] - 0s 2ms/step - loss: 0.2343 - accuracy: 0.9140 - val_loss: 0.2885 - val_accuracy: 0.8806\n",
      "Epoch 35/150\n",
      "27/27 [==============================] - 0s 1ms/step - loss: 0.2324 - accuracy: 0.9121 - val_loss: 0.2845 - val_accuracy: 0.8806\n",
      "Epoch 36/150\n",
      "27/27 [==============================] - 0s 1ms/step - loss: 0.2287 - accuracy: 0.9131 - val_loss: 0.2836 - val_accuracy: 0.8806\n",
      "Epoch 37/150\n",
      "27/27 [==============================] - 0s 1ms/step - loss: 0.2261 - accuracy: 0.9150 - val_loss: 0.2815 - val_accuracy: 0.8806\n",
      "Epoch 38/150\n",
      "27/27 [==============================] - 0s 1ms/step - loss: 0.2251 - accuracy: 0.9140 - val_loss: 0.2812 - val_accuracy: 0.8806\n",
      "Epoch 39/150\n",
      "27/27 [==============================] - 0s 1ms/step - loss: 0.2220 - accuracy: 0.9196 - val_loss: 0.2767 - val_accuracy: 0.8806\n",
      "Epoch 40/150\n",
      "27/27 [==============================] - 0s 1ms/step - loss: 0.2199 - accuracy: 0.9131 - val_loss: 0.2757 - val_accuracy: 0.8806\n",
      "Epoch 41/150\n",
      "27/27 [==============================] - 0s 1ms/step - loss: 0.2173 - accuracy: 0.9196 - val_loss: 0.2753 - val_accuracy: 0.8806\n",
      "Epoch 42/150\n",
      "27/27 [==============================] - 0s 1ms/step - loss: 0.2151 - accuracy: 0.9206 - val_loss: 0.2737 - val_accuracy: 0.8806\n",
      "Epoch 43/150\n",
      "27/27 [==============================] - 0s 1ms/step - loss: 0.2134 - accuracy: 0.9206 - val_loss: 0.2705 - val_accuracy: 0.8806\n",
      "Epoch 44/150\n",
      "27/27 [==============================] - 0s 1ms/step - loss: 0.2111 - accuracy: 0.9206 - val_loss: 0.2676 - val_accuracy: 0.8806\n",
      "Epoch 45/150\n",
      "27/27 [==============================] - 0s 1ms/step - loss: 0.2093 - accuracy: 0.9243 - val_loss: 0.2675 - val_accuracy: 0.8806\n",
      "Epoch 46/150\n",
      "27/27 [==============================] - 0s 1ms/step - loss: 0.2071 - accuracy: 0.9224 - val_loss: 0.2645 - val_accuracy: 0.8806\n",
      "Epoch 47/150\n",
      "27/27 [==============================] - 0s 1ms/step - loss: 0.2052 - accuracy: 0.9243 - val_loss: 0.2638 - val_accuracy: 0.8881\n",
      "Epoch 48/150\n",
      "27/27 [==============================] - 0s 1ms/step - loss: 0.2035 - accuracy: 0.9252 - val_loss: 0.2600 - val_accuracy: 0.8806\n",
      "Epoch 49/150\n",
      "27/27 [==============================] - 0s 1ms/step - loss: 0.2011 - accuracy: 0.9262 - val_loss: 0.2582 - val_accuracy: 0.8881\n",
      "Epoch 50/150\n",
      "27/27 [==============================] - 0s 1ms/step - loss: 0.2003 - accuracy: 0.9215 - val_loss: 0.2541 - val_accuracy: 0.8806\n",
      "Epoch 51/150\n",
      "27/27 [==============================] - 0s 1ms/step - loss: 0.1967 - accuracy: 0.9271 - val_loss: 0.2536 - val_accuracy: 0.8881\n",
      "Epoch 52/150\n",
      "27/27 [==============================] - 0s 1ms/step - loss: 0.1951 - accuracy: 0.9280 - val_loss: 0.2521 - val_accuracy: 0.8881\n",
      "Epoch 53/150\n",
      "27/27 [==============================] - 0s 1ms/step - loss: 0.1926 - accuracy: 0.9252 - val_loss: 0.2485 - val_accuracy: 0.8881\n",
      "Epoch 54/150\n",
      "27/27 [==============================] - 0s 1ms/step - loss: 0.1903 - accuracy: 0.9271 - val_loss: 0.2450 - val_accuracy: 0.8881\n",
      "Epoch 55/150\n",
      "27/27 [==============================] - 0s 1ms/step - loss: 0.1886 - accuracy: 0.9271 - val_loss: 0.2442 - val_accuracy: 0.8955\n",
      "Epoch 56/150\n",
      "27/27 [==============================] - 0s 2ms/step - loss: 0.1872 - accuracy: 0.9262 - val_loss: 0.2444 - val_accuracy: 0.9030\n",
      "Epoch 57/150\n",
      "27/27 [==============================] - 0s 1ms/step - loss: 0.1853 - accuracy: 0.9327 - val_loss: 0.2391 - val_accuracy: 0.8955\n",
      "Epoch 58/150\n",
      "27/27 [==============================] - 0s 1ms/step - loss: 0.1832 - accuracy: 0.9308 - val_loss: 0.2404 - val_accuracy: 0.8955\n"
     ]
    },
    {
     "name": "stdout",
     "output_type": "stream",
     "text": [
      "Epoch 59/150\n",
      "27/27 [==============================] - 0s 1ms/step - loss: 0.1821 - accuracy: 0.9346 - val_loss: 0.2371 - val_accuracy: 0.8955\n",
      "Epoch 60/150\n",
      "27/27 [==============================] - 0s 1ms/step - loss: 0.1795 - accuracy: 0.9336 - val_loss: 0.2352 - val_accuracy: 0.9104\n",
      "Epoch 61/150\n",
      "27/27 [==============================] - 0s 1ms/step - loss: 0.1781 - accuracy: 0.9374 - val_loss: 0.2349 - val_accuracy: 0.9104\n",
      "Epoch 62/150\n",
      "27/27 [==============================] - 0s 1ms/step - loss: 0.1770 - accuracy: 0.9364 - val_loss: 0.2341 - val_accuracy: 0.8955\n",
      "Epoch 63/150\n",
      "27/27 [==============================] - 0s 1ms/step - loss: 0.1753 - accuracy: 0.9346 - val_loss: 0.2344 - val_accuracy: 0.8955\n",
      "Epoch 64/150\n",
      "27/27 [==============================] - 0s 1ms/step - loss: 0.1729 - accuracy: 0.9355 - val_loss: 0.2321 - val_accuracy: 0.8881\n",
      "Epoch 65/150\n",
      "27/27 [==============================] - 0s 1ms/step - loss: 0.1706 - accuracy: 0.9355 - val_loss: 0.2309 - val_accuracy: 0.9030\n",
      "Epoch 66/150\n",
      "27/27 [==============================] - 0s 1ms/step - loss: 0.1707 - accuracy: 0.9374 - val_loss: 0.2318 - val_accuracy: 0.8955\n",
      "Epoch 67/150\n",
      "27/27 [==============================] - 0s 1ms/step - loss: 0.1684 - accuracy: 0.9383 - val_loss: 0.2320 - val_accuracy: 0.9030\n",
      "Epoch 68/150\n",
      "27/27 [==============================] - 0s 1ms/step - loss: 0.1669 - accuracy: 0.9374 - val_loss: 0.2286 - val_accuracy: 0.9030\n",
      "Epoch 69/150\n",
      "27/27 [==============================] - 0s 1ms/step - loss: 0.1653 - accuracy: 0.9430 - val_loss: 0.2295 - val_accuracy: 0.9030\n",
      "Epoch 70/150\n",
      "27/27 [==============================] - 0s 1ms/step - loss: 0.1649 - accuracy: 0.9421 - val_loss: 0.2278 - val_accuracy: 0.9030\n",
      "Epoch 71/150\n",
      "27/27 [==============================] - 0s 1ms/step - loss: 0.1628 - accuracy: 0.9374 - val_loss: 0.2293 - val_accuracy: 0.9030\n",
      "Epoch 72/150\n",
      "27/27 [==============================] - 0s 1ms/step - loss: 0.1627 - accuracy: 0.9411 - val_loss: 0.2260 - val_accuracy: 0.9030\n",
      "Epoch 73/150\n",
      "27/27 [==============================] - 0s 1ms/step - loss: 0.1611 - accuracy: 0.9411 - val_loss: 0.2238 - val_accuracy: 0.9030\n",
      "Epoch 74/150\n",
      "27/27 [==============================] - 0s 1ms/step - loss: 0.1596 - accuracy: 0.9383 - val_loss: 0.2245 - val_accuracy: 0.9104\n",
      "Epoch 75/150\n",
      "27/27 [==============================] - 0s 1ms/step - loss: 0.1583 - accuracy: 0.9393 - val_loss: 0.2268 - val_accuracy: 0.9030\n",
      "Epoch 76/150\n",
      "27/27 [==============================] - 0s 1ms/step - loss: 0.1568 - accuracy: 0.9402 - val_loss: 0.2275 - val_accuracy: 0.8955\n",
      "Epoch 77/150\n",
      "27/27 [==============================] - 0s 1ms/step - loss: 0.1555 - accuracy: 0.9393 - val_loss: 0.2269 - val_accuracy: 0.8955\n",
      "Epoch 78/150\n",
      "27/27 [==============================] - 0s 1ms/step - loss: 0.1550 - accuracy: 0.9449 - val_loss: 0.2248 - val_accuracy: 0.8881\n",
      "Epoch 79/150\n",
      "27/27 [==============================] - 0s 1ms/step - loss: 0.1544 - accuracy: 0.9439 - val_loss: 0.2282 - val_accuracy: 0.8955\n",
      "Epoch 80/150\n",
      "27/27 [==============================] - 0s 1ms/step - loss: 0.1523 - accuracy: 0.9402 - val_loss: 0.2246 - val_accuracy: 0.8806\n",
      "Epoch 81/150\n",
      "27/27 [==============================] - 0s 1ms/step - loss: 0.1513 - accuracy: 0.9449 - val_loss: 0.2244 - val_accuracy: 0.8881\n",
      "Epoch 82/150\n",
      "27/27 [==============================] - 0s 1ms/step - loss: 0.1501 - accuracy: 0.9439 - val_loss: 0.2254 - val_accuracy: 0.8806\n",
      "Epoch 83/150\n",
      "27/27 [==============================] - 0s 1ms/step - loss: 0.1493 - accuracy: 0.9421 - val_loss: 0.2225 - val_accuracy: 0.8806\n",
      "Epoch 84/150\n",
      "27/27 [==============================] - 0s 1ms/step - loss: 0.1478 - accuracy: 0.9467 - val_loss: 0.2258 - val_accuracy: 0.8731\n",
      "Epoch 85/150\n",
      "27/27 [==============================] - 0s 1ms/step - loss: 0.1473 - accuracy: 0.9430 - val_loss: 0.2252 - val_accuracy: 0.8806\n",
      "Epoch 86/150\n",
      "27/27 [==============================] - 0s 1ms/step - loss: 0.1460 - accuracy: 0.9486 - val_loss: 0.2249 - val_accuracy: 0.8806\n",
      "Epoch 87/150\n",
      "27/27 [==============================] - 0s 1ms/step - loss: 0.1457 - accuracy: 0.9495 - val_loss: 0.2239 - val_accuracy: 0.8806\n",
      "Epoch 88/150\n",
      "27/27 [==============================] - 0s 2ms/step - loss: 0.1447 - accuracy: 0.9467 - val_loss: 0.2271 - val_accuracy: 0.8731\n",
      "Epoch 89/150\n",
      "27/27 [==============================] - 0s 1ms/step - loss: 0.1439 - accuracy: 0.9449 - val_loss: 0.2236 - val_accuracy: 0.8731\n",
      "Epoch 90/150\n",
      "27/27 [==============================] - 0s 1ms/step - loss: 0.1429 - accuracy: 0.9523 - val_loss: 0.2236 - val_accuracy: 0.8731\n",
      "Epoch 91/150\n",
      "27/27 [==============================] - 0s 1ms/step - loss: 0.1424 - accuracy: 0.9505 - val_loss: 0.2246 - val_accuracy: 0.8731\n",
      "Epoch 92/150\n",
      "27/27 [==============================] - 0s 1ms/step - loss: 0.1420 - accuracy: 0.9458 - val_loss: 0.2240 - val_accuracy: 0.8806\n",
      "Epoch 93/150\n",
      "27/27 [==============================] - 0s 1ms/step - loss: 0.1406 - accuracy: 0.9505 - val_loss: 0.2237 - val_accuracy: 0.8731\n",
      "Epoch 94/150\n",
      "27/27 [==============================] - 0s 1ms/step - loss: 0.1407 - accuracy: 0.9467 - val_loss: 0.2204 - val_accuracy: 0.8881\n",
      "Epoch 95/150\n",
      "27/27 [==============================] - 0s 1ms/step - loss: 0.1392 - accuracy: 0.9514 - val_loss: 0.2230 - val_accuracy: 0.8731\n",
      "Epoch 96/150\n",
      "27/27 [==============================] - 0s 1ms/step - loss: 0.1385 - accuracy: 0.9505 - val_loss: 0.2247 - val_accuracy: 0.8657\n",
      "Epoch 97/150\n",
      "27/27 [==============================] - 0s 1ms/step - loss: 0.1375 - accuracy: 0.9486 - val_loss: 0.2235 - val_accuracy: 0.8731\n",
      "Epoch 98/150\n",
      "27/27 [==============================] - 0s 1ms/step - loss: 0.1375 - accuracy: 0.9551 - val_loss: 0.2247 - val_accuracy: 0.8731\n",
      "Epoch 99/150\n",
      "27/27 [==============================] - 0s 1ms/step - loss: 0.1361 - accuracy: 0.9514 - val_loss: 0.2231 - val_accuracy: 0.8731\n",
      "Epoch 100/150\n",
      "27/27 [==============================] - 0s 1ms/step - loss: 0.1357 - accuracy: 0.9495 - val_loss: 0.2241 - val_accuracy: 0.8731\n",
      "Epoch 101/150\n",
      "27/27 [==============================] - 0s 1ms/step - loss: 0.1355 - accuracy: 0.9523 - val_loss: 0.2251 - val_accuracy: 0.8731\n",
      "Epoch 102/150\n",
      "27/27 [==============================] - 0s 1ms/step - loss: 0.1340 - accuracy: 0.9523 - val_loss: 0.2228 - val_accuracy: 0.8731\n",
      "Epoch 103/150\n",
      "27/27 [==============================] - 0s 1ms/step - loss: 0.1339 - accuracy: 0.9542 - val_loss: 0.2243 - val_accuracy: 0.8731\n",
      "Epoch 104/150\n",
      "27/27 [==============================] - 0s 1ms/step - loss: 0.1331 - accuracy: 0.9523 - val_loss: 0.2269 - val_accuracy: 0.8731\n",
      "Epoch 105/150\n",
      "27/27 [==============================] - 0s 1ms/step - loss: 0.1332 - accuracy: 0.9561 - val_loss: 0.2241 - val_accuracy: 0.8731\n",
      "Epoch 106/150\n",
      "27/27 [==============================] - 0s 1ms/step - loss: 0.1331 - accuracy: 0.9486 - val_loss: 0.2244 - val_accuracy: 0.8806\n",
      "Epoch 107/150\n",
      "27/27 [==============================] - 0s 1ms/step - loss: 0.1317 - accuracy: 0.9542 - val_loss: 0.2256 - val_accuracy: 0.8731\n",
      "Epoch 108/150\n",
      "27/27 [==============================] - 0s 1ms/step - loss: 0.1309 - accuracy: 0.9570 - val_loss: 0.2234 - val_accuracy: 0.8806\n",
      "Epoch 109/150\n",
      "27/27 [==============================] - 0s 1ms/step - loss: 0.1312 - accuracy: 0.9533 - val_loss: 0.2266 - val_accuracy: 0.8806\n",
      "Epoch 110/150\n",
      "27/27 [==============================] - 0s 1ms/step - loss: 0.1309 - accuracy: 0.9561 - val_loss: 0.2312 - val_accuracy: 0.8731\n",
      "Epoch 111/150\n",
      "27/27 [==============================] - 0s 1ms/step - loss: 0.1289 - accuracy: 0.9570 - val_loss: 0.2252 - val_accuracy: 0.8806\n",
      "Epoch 112/150\n",
      "27/27 [==============================] - 0s 1ms/step - loss: 0.1291 - accuracy: 0.9533 - val_loss: 0.2271 - val_accuracy: 0.8806\n",
      "Epoch 113/150\n",
      "27/27 [==============================] - 0s 1ms/step - loss: 0.1277 - accuracy: 0.9533 - val_loss: 0.2262 - val_accuracy: 0.8806\n",
      "Epoch 114/150\n",
      "27/27 [==============================] - 0s 1ms/step - loss: 0.1274 - accuracy: 0.9523 - val_loss: 0.2271 - val_accuracy: 0.8806\n",
      "Epoch 115/150\n",
      "27/27 [==============================] - 0s 1ms/step - loss: 0.1274 - accuracy: 0.9551 - val_loss: 0.2320 - val_accuracy: 0.8731\n",
      "Epoch 116/150\n",
      "27/27 [==============================] - 0s 1ms/step - loss: 0.1273 - accuracy: 0.9542 - val_loss: 0.2284 - val_accuracy: 0.8806\n",
      "Epoch 117/150\n",
      "27/27 [==============================] - 0s 1ms/step - loss: 0.1268 - accuracy: 0.9505 - val_loss: 0.2245 - val_accuracy: 0.8806\n",
      "Epoch 118/150\n",
      "27/27 [==============================] - 0s 1ms/step - loss: 0.1259 - accuracy: 0.9542 - val_loss: 0.2308 - val_accuracy: 0.8806\n",
      "Epoch 119/150\n",
      "27/27 [==============================] - 0s 1ms/step - loss: 0.1249 - accuracy: 0.9570 - val_loss: 0.2254 - val_accuracy: 0.8806\n",
      "Epoch 120/150\n",
      "27/27 [==============================] - 0s 1ms/step - loss: 0.1239 - accuracy: 0.9579 - val_loss: 0.2297 - val_accuracy: 0.8955\n",
      "Epoch 121/150\n",
      "27/27 [==============================] - 0s 1ms/step - loss: 0.1235 - accuracy: 0.9561 - val_loss: 0.2271 - val_accuracy: 0.8881\n",
      "Epoch 122/150\n",
      "27/27 [==============================] - 0s 1ms/step - loss: 0.1238 - accuracy: 0.9533 - val_loss: 0.2251 - val_accuracy: 0.8955\n",
      "Epoch 123/150\n",
      "27/27 [==============================] - 0s 1ms/step - loss: 0.1238 - accuracy: 0.9570 - val_loss: 0.2276 - val_accuracy: 0.8955\n",
      "Epoch 124/150\n",
      "27/27 [==============================] - 0s 1ms/step - loss: 0.1217 - accuracy: 0.9570 - val_loss: 0.2262 - val_accuracy: 0.8881\n",
      "Epoch 125/150\n",
      "27/27 [==============================] - 0s 1ms/step - loss: 0.1213 - accuracy: 0.9589 - val_loss: 0.2304 - val_accuracy: 0.8955\n",
      "Epoch 126/150\n",
      "27/27 [==============================] - 0s 1ms/step - loss: 0.1215 - accuracy: 0.9579 - val_loss: 0.2308 - val_accuracy: 0.8955\n",
      "Epoch 127/150\n",
      "27/27 [==============================] - 0s 1ms/step - loss: 0.1207 - accuracy: 0.9589 - val_loss: 0.2285 - val_accuracy: 0.8955\n",
      "Epoch 128/150\n",
      "27/27 [==============================] - 0s 1ms/step - loss: 0.1214 - accuracy: 0.9589 - val_loss: 0.2262 - val_accuracy: 0.8955\n",
      "Epoch 129/150\n",
      "27/27 [==============================] - 0s 1ms/step - loss: 0.1205 - accuracy: 0.9607 - val_loss: 0.2292 - val_accuracy: 0.8881\n",
      "Epoch 130/150\n",
      "27/27 [==============================] - 0s 1ms/step - loss: 0.1196 - accuracy: 0.9551 - val_loss: 0.2239 - val_accuracy: 0.8955\n",
      "Epoch 131/150\n",
      "27/27 [==============================] - 0s 2ms/step - loss: 0.1201 - accuracy: 0.9570 - val_loss: 0.2289 - val_accuracy: 0.8955\n",
      "Epoch 132/150\n",
      "27/27 [==============================] - 0s 1ms/step - loss: 0.1200 - accuracy: 0.9598 - val_loss: 0.2230 - val_accuracy: 0.8881\n",
      "Epoch 133/150\n",
      "27/27 [==============================] - 0s 1ms/step - loss: 0.1193 - accuracy: 0.9533 - val_loss: 0.2246 - val_accuracy: 0.8955\n",
      "Epoch 134/150\n",
      "27/27 [==============================] - 0s 1ms/step - loss: 0.1178 - accuracy: 0.9570 - val_loss: 0.2272 - val_accuracy: 0.8955\n",
      "Epoch 135/150\n",
      "27/27 [==============================] - 0s 1ms/step - loss: 0.1183 - accuracy: 0.9533 - val_loss: 0.2209 - val_accuracy: 0.9104\n",
      "Epoch 136/150\n",
      "27/27 [==============================] - 0s 2ms/step - loss: 0.1177 - accuracy: 0.9561 - val_loss: 0.2263 - val_accuracy: 0.8881\n",
      "Epoch 137/150\n",
      "27/27 [==============================] - 0s 1ms/step - loss: 0.1164 - accuracy: 0.9607 - val_loss: 0.2271 - val_accuracy: 0.8881\n",
      "Epoch 138/150\n",
      "27/27 [==============================] - 0s 1ms/step - loss: 0.1181 - accuracy: 0.9561 - val_loss: 0.2264 - val_accuracy: 0.8955\n",
      "Epoch 139/150\n",
      "27/27 [==============================] - 0s 1ms/step - loss: 0.1165 - accuracy: 0.9561 - val_loss: 0.2256 - val_accuracy: 0.8881\n",
      "Epoch 140/150\n",
      "27/27 [==============================] - 0s 1ms/step - loss: 0.1152 - accuracy: 0.9579 - val_loss: 0.2275 - val_accuracy: 0.8881\n",
      "Epoch 141/150\n",
      "27/27 [==============================] - 0s 1ms/step - loss: 0.1166 - accuracy: 0.9561 - val_loss: 0.2262 - val_accuracy: 0.8955\n",
      "Epoch 142/150\n",
      "27/27 [==============================] - 0s 1ms/step - loss: 0.1154 - accuracy: 0.9579 - val_loss: 0.2250 - val_accuracy: 0.8955\n",
      "Epoch 143/150\n",
      "27/27 [==============================] - 0s 1ms/step - loss: 0.1154 - accuracy: 0.9579 - val_loss: 0.2240 - val_accuracy: 0.8955\n",
      "Epoch 144/150\n",
      "27/27 [==============================] - 0s 1ms/step - loss: 0.1141 - accuracy: 0.9579 - val_loss: 0.2249 - val_accuracy: 0.9030\n",
      "Epoch 145/150\n",
      "27/27 [==============================] - 0s 1ms/step - loss: 0.1143 - accuracy: 0.9561 - val_loss: 0.2209 - val_accuracy: 0.9030\n",
      "Epoch 146/150\n",
      "27/27 [==============================] - 0s 1ms/step - loss: 0.1133 - accuracy: 0.9607 - val_loss: 0.2217 - val_accuracy: 0.8955\n",
      "Epoch 147/150\n",
      "27/27 [==============================] - 0s 1ms/step - loss: 0.1148 - accuracy: 0.9570 - val_loss: 0.2223 - val_accuracy: 0.8955\n",
      "Epoch 148/150\n",
      "27/27 [==============================] - 0s 1ms/step - loss: 0.1133 - accuracy: 0.9598 - val_loss: 0.2232 - val_accuracy: 0.9030\n",
      "Epoch 149/150\n",
      "27/27 [==============================] - 0s 1ms/step - loss: 0.1130 - accuracy: 0.9570 - val_loss: 0.2244 - val_accuracy: 0.8955\n",
      "Epoch 150/150\n",
      "27/27 [==============================] - 0s 1ms/step - loss: 0.1135 - accuracy: 0.9589 - val_loss: 0.2230 - val_accuracy: 0.8881\n"
     ]
    },
    {
     "data": {
      "text/plain": [
       "<keras.callbacks.History at 0x2d0741a5040>"
      ]
     },
     "execution_count": 16,
     "metadata": {},
     "output_type": "execute_result"
    }
   ],
   "source": [
    "model.fit(train_X, train_y, epochs = 150, batch_size =  40, validation_data = (testing_X, testing_y))"
   ]
  },
  {
   "cell_type": "code",
   "execution_count": 17,
   "metadata": {
    "colab": {
     "base_uri": "https://localhost:8080/",
     "height": 490
    },
    "id": "t3GdYMjUYE7n",
    "outputId": "0244aae9-b3e3-4ab9-a1de-ae161b55b831"
   },
   "outputs": [
    {
     "data": {
      "text/plain": [
       "Text(0, 0.5, 'Loss')"
      ]
     },
     "execution_count": 17,
     "metadata": {},
     "output_type": "execute_result"
    },
    {
     "data": {
      "image/png": "[encoded data removed]",
      "text/plain": [
       "<Figure size 640x480 with 1 Axes>"
      ]
     },
     "metadata": {},
     "output_type": "display_data"
    }
   ],
   "source": [
    "plt.plot(model.history.history['loss'], label='Training Loss')\n",
    "plt.plot(model.history.history['val_loss'], label='Validation Loss')\n",
    "plt.title('Train and Validation Loss Plot')\n",
    "plt.xlabel('Epoch')\n",
    "plt.ylabel('Loss')"
   ]
  },
  {
   "cell_type": "code",
   "execution_count": 18,
   "metadata": {
    "colab": {
     "base_uri": "https://localhost:8080/",
     "height": 0
    },
    "id": "Ib-EtFwGV8I4",
    "outputId": "91e511e0-a11b-444e-e17f-08f5ca6b4e5e"
   },
   "outputs": [
    {
     "name": "stdout",
     "output_type": "stream",
     "text": [
      "9/9 [==============================] - 0s 500us/step\n",
      "Accuracy: 0.9029850746268657 \n",
      "\n",
      "              precision    recall  f1-score   support\n",
      "\n",
      "           0       0.86      0.90      0.88       107\n",
      "           1       0.93      0.91      0.92       161\n",
      "\n",
      "    accuracy                           0.90       268\n",
      "   macro avg       0.90      0.90      0.90       268\n",
      "weighted avg       0.90      0.90      0.90       268\n",
      "\n"
     ]
    }
   ],
   "source": [
    "from sklearn.metrics import confusion_matrix\n",
    "from sklearn.metrics import accuracy_score\n",
    "from sklearn.metrics import f1_score\n",
    "from sklearn.metrics import classification_report\n",
    "\n",
    "test_predictions = np.argmax(model.predict(test_X), axis=1).round()\n",
    "\n",
    "accuracy = accuracy_score(test_y, test_predictions)\n",
    "print(\"Accuracy: {}\".format(accuracy), \"\\n\")\n",
    "\n",
    "print(classification_report(test_y, test_predictions))"
   ]
  },
  {
   "cell_type": "markdown",
   "metadata": {
    "id": "kAeJCeCPkt9k"
   },
   "source": [
    "Mengganti arsitektur n * 2 dengan angka yang lain seperti 10 dan menambahkan  batch_size dengan jumlah 40. Dengan menambahkan batch_size bisa mengecek beberapa sample sekaligus sehinga lebih cepat dan efisien. Epoch juga ditambahkan dari 50 ke 150. Dengan menambahkan epoch, model machine learning dapat mempelajari pola dengna lebih mudah"
   ]
  },
  {
   "cell_type": "markdown",
   "metadata": {
    "id": "tnzyQxK4kqQt"
   },
   "source": [
    "# E"
   ]
  },
  {
   "cell_type": "markdown",
   "metadata": {
    "id": "lgf8BtF_ktQI"
   },
   "source": [
    "Bisa dilihat dari kedua model, setelah diganti beberapa angka di arsitektur dan ditambahkan batch_size dan ditambahkan jumlah epoch, hasil akurasinya meningkat dari 0.89 menjadi 0.92. Nilai presisi recall dan F1-score juga lebih besar dibandingkan sebelumnya. Hal ini menandakan kalau perubahan yang dilakukan memperbagus baseline arsitektur yang sudah dibuat."
   ]
  }
 ],
 "metadata": {
  "colab": {
   "provenance": []
  },
  "kernelspec": {
   "display_name": "Python 3 (ipykernel)",
   "language": "python",
   "name": "python3"
  },
  "language_info": {
   "codemirror_mode": {
    "name": "ipython",
    "version": 3
   },
   "file_extension": ".py",
   "mimetype": "text/x-python",
   "name": "python",
   "nbconvert_exporter": "python",
   "pygments_lexer": "ipython3",
   "version": "3.9.13"
  }
 },
 "nbformat": 4,
 "nbformat_minor": 1
}
